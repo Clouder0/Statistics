{
 "cells": [
  {
   "cell_type": "markdown",
   "id": "7a1c50d7-805f-414c-aa29-9883377572c8",
   "metadata": {},
   "source": [
    "First we should read `college.csv` using pandas."
   ]
  },
  {
   "cell_type": "code",
   "execution_count": null,
   "id": "3591aa9a-8bc0-4213-a0bd-d168ad639717",
   "metadata": {},
   "outputs": [],
   "source": [
    "import pandas as pd\n"
   ]
  },
  {
   "cell_type": "code",
   "execution_count": null,
   "id": "81dd6b08-69b7-48b9-b4d9-31272261fd88",
   "metadata": {},
   "outputs": [],
   "source": []
  }
 ],
 "metadata": {
  "kernelspec": {
   "display_name": "ISLP",
   "language": "python",
   "name": "islp"
  },
  "language_info": {
   "codemirror_mode": {
    "name": "ipython",
    "version": 3
   },
   "file_extension": ".py",
   "mimetype": "text/x-python",
   "name": "python",
   "nbconvert_exporter": "python",
   "pygments_lexer": "ipython3",
   "version": "3.11.9"
  }
 },
 "nbformat": 4,
 "nbformat_minor": 5
}
